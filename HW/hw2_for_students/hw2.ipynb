{
 "cells": [
  {
   "cell_type": "markdown",
   "metadata": {},
   "source": [
    "# Homework 2: Pandas\n",
    "\n",
    "\n",
    "Homework 2 is out, it is notebook form. You need to fill in the answers in the cells and produce graphs. Everything needed for the assignment is explained in the notebook. \n",
    "\n",
    "**How to submit**\n",
    "\n",
    "You need to send the `.ipynb` file with your answers plus an `.html` file, which will serve as a backup for us in case the `.ipynb` file cannot be opened on my or the TA's computer. \n",
    "\n",
    "The homework solution should be uploaded on e-campus. You can submit it as often as you like before the deadline.\n",
    "\n",
    "**Important**\n",
    "\n",
    "- Please make sure that you provide an answer in each cell and place that contains the **[ your answer ]** tags.\n",
    "- The places that require your code answer are marked with `\"# YOUR CODE\"` comments.\n",
    "- Note that you may use 1 or more line of code for replacing each `\"# YOUR CODE\"` comment."
   ]
  },
  {
   "cell_type": "code",
   "execution_count": 46,
   "metadata": {},
   "outputs": [],
   "source": [
    "%matplotlib inline\n",
    "import matplotlib.pyplot as plt\n",
    "import seaborn as sns\n",
    "import numpy as np\n",
    "import pandas as pd"
   ]
  },
  {
   "cell_type": "markdown",
   "metadata": {},
   "source": [
    "# Pandas Basics (40 points)"
   ]
  },
  {
   "cell_type": "markdown",
   "metadata": {},
   "source": [
    "Consider the series s of letters in a sentence"
   ]
  },
  {
   "cell_type": "code",
   "execution_count": 47,
   "metadata": {},
   "outputs": [],
   "source": [
    "s = pd.Series(list(\"Series is a one-dimensional labeled array capable of holding any data type (integers, strings, floating point numbers, Python objects, etc.). The axis labels are collectively referred to as the index.\"))"
   ]
  },
  {
   "cell_type": "markdown",
   "metadata": {},
   "source": [
    "## Question 1a"
   ]
  },
  {
   "cell_type": "markdown",
   "metadata": {},
   "source": [
    "What is count of each letter in the sentence, output a series which is sorted by the count?"
   ]
  },
  {
   "cell_type": "code",
   "execution_count": 48,
   "metadata": {},
   "outputs": [],
   "source": [
    "#YOUR CODE HERE\n",
    "\n",
    "s_counts = s.value_counts()"
   ]
  },
  {
   "cell_type": "markdown",
   "metadata": {},
   "source": [
    "## Question 1b"
   ]
  },
  {
   "cell_type": "markdown",
   "metadata": {},
   "source": [
    "Create a list with only the top 5 common letters (not including space)"
   ]
  },
  {
   "cell_type": "code",
   "execution_count": 49,
   "metadata": {},
   "outputs": [
    {
     "data": {
      "text/plain": [
       "e    23\n",
       "a    15\n",
       "i    12\n",
       "t    12\n",
       "n    12\n",
       "dtype: int64"
      ]
     },
     "execution_count": 49,
     "metadata": {},
     "output_type": "execute_result"
    }
   ],
   "source": [
    "#YOUR CODE HERE\n",
    "\n",
    "s_counts[s_counts.index != ' '].sort_values(ascending=False)[:5]"
   ]
  },
  {
   "cell_type": "markdown",
   "metadata": {},
   "source": [
    "Given the dataframe below,"
   ]
  },
  {
   "cell_type": "code",
   "execution_count": 50,
   "metadata": {},
   "outputs": [
    {
     "data": {
      "text/html": [
       "<div>\n",
       "<style scoped>\n",
       "    .dataframe tbody tr th:only-of-type {\n",
       "        vertical-align: middle;\n",
       "    }\n",
       "\n",
       "    .dataframe tbody tr th {\n",
       "        vertical-align: top;\n",
       "    }\n",
       "\n",
       "    .dataframe thead th {\n",
       "        text-align: right;\n",
       "    }\n",
       "</style>\n",
       "<table border=\"1\" class=\"dataframe\">\n",
       "  <thead>\n",
       "    <tr style=\"text-align: right;\">\n",
       "      <th></th>\n",
       "      <th>A</th>\n",
       "      <th>B</th>\n",
       "      <th>C</th>\n",
       "      <th>D</th>\n",
       "    </tr>\n",
       "  </thead>\n",
       "  <tbody>\n",
       "    <tr>\n",
       "      <th>2000-01-01</th>\n",
       "      <td>1.014959</td>\n",
       "      <td>0.506272</td>\n",
       "      <td>0.452081</td>\n",
       "      <td>-2.128658</td>\n",
       "    </tr>\n",
       "    <tr>\n",
       "      <th>2000-01-02</th>\n",
       "      <td>1.661898</td>\n",
       "      <td>0.829597</td>\n",
       "      <td>-0.569838</td>\n",
       "      <td>-1.009460</td>\n",
       "    </tr>\n",
       "    <tr>\n",
       "      <th>2000-01-03</th>\n",
       "      <td>-0.870213</td>\n",
       "      <td>0.074777</td>\n",
       "      <td>-1.972651</td>\n",
       "      <td>-2.234310</td>\n",
       "    </tr>\n",
       "    <tr>\n",
       "      <th>2000-01-04</th>\n",
       "      <td>-1.276476</td>\n",
       "      <td>1.272933</td>\n",
       "      <td>-1.031817</td>\n",
       "      <td>0.369032</td>\n",
       "    </tr>\n",
       "    <tr>\n",
       "      <th>2000-01-05</th>\n",
       "      <td>0.492805</td>\n",
       "      <td>-1.547356</td>\n",
       "      <td>-0.382904</td>\n",
       "      <td>-0.189975</td>\n",
       "    </tr>\n",
       "    <tr>\n",
       "      <th>2000-01-06</th>\n",
       "      <td>-1.092322</td>\n",
       "      <td>0.815756</td>\n",
       "      <td>-0.358535</td>\n",
       "      <td>-1.060902</td>\n",
       "    </tr>\n",
       "    <tr>\n",
       "      <th>2000-01-07</th>\n",
       "      <td>0.434633</td>\n",
       "      <td>0.830005</td>\n",
       "      <td>-0.252857</td>\n",
       "      <td>0.809672</td>\n",
       "    </tr>\n",
       "    <tr>\n",
       "      <th>2000-01-08</th>\n",
       "      <td>0.353654</td>\n",
       "      <td>-0.855071</td>\n",
       "      <td>-0.091536</td>\n",
       "      <td>-0.684661</td>\n",
       "    </tr>\n",
       "  </tbody>\n",
       "</table>\n",
       "</div>"
      ],
      "text/plain": [
       "                   A         B         C         D\n",
       "2000-01-01  1.014959  0.506272  0.452081 -2.128658\n",
       "2000-01-02  1.661898  0.829597 -0.569838 -1.009460\n",
       "2000-01-03 -0.870213  0.074777 -1.972651 -2.234310\n",
       "2000-01-04 -1.276476  1.272933 -1.031817  0.369032\n",
       "2000-01-05  0.492805 -1.547356 -0.382904 -0.189975\n",
       "2000-01-06 -1.092322  0.815756 -0.358535 -1.060902\n",
       "2000-01-07  0.434633  0.830005 -0.252857  0.809672\n",
       "2000-01-08  0.353654 -0.855071 -0.091536 -0.684661"
      ]
     },
     "execution_count": 50,
     "metadata": {},
     "output_type": "execute_result"
    }
   ],
   "source": [
    "dates = pd.date_range('1/1/2000', periods=8)\n",
    "df = pd.DataFrame(np.random.randn(8, 4), index=dates, columns=['A', 'B', 'C','D'])\n",
    "df"
   ]
  },
  {
   "cell_type": "markdown",
   "metadata": {},
   "source": [
    "## Question 1c"
   ]
  },
  {
   "cell_type": "markdown",
   "metadata": {},
   "source": [
    "Find last two rows of columns A and D"
   ]
  },
  {
   "cell_type": "code",
   "execution_count": 51,
   "metadata": {},
   "outputs": [
    {
     "data": {
      "text/html": [
       "<div>\n",
       "<style scoped>\n",
       "    .dataframe tbody tr th:only-of-type {\n",
       "        vertical-align: middle;\n",
       "    }\n",
       "\n",
       "    .dataframe tbody tr th {\n",
       "        vertical-align: top;\n",
       "    }\n",
       "\n",
       "    .dataframe thead th {\n",
       "        text-align: right;\n",
       "    }\n",
       "</style>\n",
       "<table border=\"1\" class=\"dataframe\">\n",
       "  <thead>\n",
       "    <tr style=\"text-align: right;\">\n",
       "      <th></th>\n",
       "      <th>A</th>\n",
       "      <th>D</th>\n",
       "    </tr>\n",
       "  </thead>\n",
       "  <tbody>\n",
       "    <tr>\n",
       "      <th>2000-01-07</th>\n",
       "      <td>0.434633</td>\n",
       "      <td>0.809672</td>\n",
       "    </tr>\n",
       "    <tr>\n",
       "      <th>2000-01-08</th>\n",
       "      <td>0.353654</td>\n",
       "      <td>-0.684661</td>\n",
       "    </tr>\n",
       "  </tbody>\n",
       "</table>\n",
       "</div>"
      ],
      "text/plain": [
       "                   A         D\n",
       "2000-01-07  0.434633  0.809672\n",
       "2000-01-08  0.353654 -0.684661"
      ]
     },
     "execution_count": 51,
     "metadata": {},
     "output_type": "execute_result"
    }
   ],
   "source": [
    "#YOUR CODE HERE\n",
    "\n",
    "df[['A','D']].iloc[-2:]"
   ]
  },
  {
   "cell_type": "markdown",
   "metadata": {},
   "source": [
    "## Question 1d"
   ]
  },
  {
   "cell_type": "markdown",
   "metadata": {},
   "source": [
    "Find last three rows which satisfy that column A > Column B"
   ]
  },
  {
   "cell_type": "code",
   "execution_count": 52,
   "metadata": {},
   "outputs": [
    {
     "data": {
      "text/html": [
       "<div>\n",
       "<style scoped>\n",
       "    .dataframe tbody tr th:only-of-type {\n",
       "        vertical-align: middle;\n",
       "    }\n",
       "\n",
       "    .dataframe tbody tr th {\n",
       "        vertical-align: top;\n",
       "    }\n",
       "\n",
       "    .dataframe thead th {\n",
       "        text-align: right;\n",
       "    }\n",
       "</style>\n",
       "<table border=\"1\" class=\"dataframe\">\n",
       "  <thead>\n",
       "    <tr style=\"text-align: right;\">\n",
       "      <th></th>\n",
       "      <th>A</th>\n",
       "      <th>B</th>\n",
       "      <th>C</th>\n",
       "      <th>D</th>\n",
       "    </tr>\n",
       "  </thead>\n",
       "  <tbody>\n",
       "    <tr>\n",
       "      <th>2000-01-02</th>\n",
       "      <td>1.661898</td>\n",
       "      <td>0.829597</td>\n",
       "      <td>-0.569838</td>\n",
       "      <td>-1.009460</td>\n",
       "    </tr>\n",
       "    <tr>\n",
       "      <th>2000-01-05</th>\n",
       "      <td>0.492805</td>\n",
       "      <td>-1.547356</td>\n",
       "      <td>-0.382904</td>\n",
       "      <td>-0.189975</td>\n",
       "    </tr>\n",
       "    <tr>\n",
       "      <th>2000-01-08</th>\n",
       "      <td>0.353654</td>\n",
       "      <td>-0.855071</td>\n",
       "      <td>-0.091536</td>\n",
       "      <td>-0.684661</td>\n",
       "    </tr>\n",
       "  </tbody>\n",
       "</table>\n",
       "</div>"
      ],
      "text/plain": [
       "                   A         B         C         D\n",
       "2000-01-02  1.661898  0.829597 -0.569838 -1.009460\n",
       "2000-01-05  0.492805 -1.547356 -0.382904 -0.189975\n",
       "2000-01-08  0.353654 -0.855071 -0.091536 -0.684661"
      ]
     },
     "execution_count": 52,
     "metadata": {},
     "output_type": "execute_result"
    }
   ],
   "source": [
    "#YOUR CODE HERE\n",
    "\n",
    "df.loc[df['A'] > df['B'], :].iloc[-3:]"
   ]
  },
  {
   "cell_type": "markdown",
   "metadata": {},
   "source": [
    "# Baby Names Questions (30 points)"
   ]
  },
  {
   "cell_type": "code",
   "execution_count": 53,
   "metadata": {},
   "outputs": [
    {
     "data": {
      "text/html": [
       "<div>\n",
       "<style scoped>\n",
       "    .dataframe tbody tr th:only-of-type {\n",
       "        vertical-align: middle;\n",
       "    }\n",
       "\n",
       "    .dataframe tbody tr th {\n",
       "        vertical-align: top;\n",
       "    }\n",
       "\n",
       "    .dataframe thead th {\n",
       "        text-align: right;\n",
       "    }\n",
       "</style>\n",
       "<table border=\"1\" class=\"dataframe\">\n",
       "  <thead>\n",
       "    <tr style=\"text-align: right;\">\n",
       "      <th></th>\n",
       "      <th>State</th>\n",
       "      <th>Sex</th>\n",
       "      <th>Year</th>\n",
       "      <th>Name</th>\n",
       "      <th>Count</th>\n",
       "    </tr>\n",
       "  </thead>\n",
       "  <tbody>\n",
       "    <tr>\n",
       "      <th>199808</th>\n",
       "      <td>NY</td>\n",
       "      <td>M</td>\n",
       "      <td>1953</td>\n",
       "      <td>Edmund</td>\n",
       "      <td>78</td>\n",
       "    </tr>\n",
       "    <tr>\n",
       "      <th>266423</th>\n",
       "      <td>NY</td>\n",
       "      <td>M</td>\n",
       "      <td>2003</td>\n",
       "      <td>Jude</td>\n",
       "      <td>30</td>\n",
       "    </tr>\n",
       "    <tr>\n",
       "      <th>206424</th>\n",
       "      <td>NY</td>\n",
       "      <td>M</td>\n",
       "      <td>1960</td>\n",
       "      <td>Gene</td>\n",
       "      <td>107</td>\n",
       "    </tr>\n",
       "    <tr>\n",
       "      <th>171052</th>\n",
       "      <td>NY</td>\n",
       "      <td>F</td>\n",
       "      <td>2019</td>\n",
       "      <td>Yeimy</td>\n",
       "      <td>7</td>\n",
       "    </tr>\n",
       "    <tr>\n",
       "      <th>52386</th>\n",
       "      <td>NY</td>\n",
       "      <td>F</td>\n",
       "      <td>1965</td>\n",
       "      <td>Christy</td>\n",
       "      <td>22</td>\n",
       "    </tr>\n",
       "  </tbody>\n",
       "</table>\n",
       "</div>"
      ],
      "text/plain": [
       "       State Sex  Year     Name  Count\n",
       "199808    NY   M  1953   Edmund     78\n",
       "266423    NY   M  2003     Jude     30\n",
       "206424    NY   M  1960     Gene    107\n",
       "171052    NY   F  2019    Yeimy      7\n",
       "52386     NY   F  1965  Christy     22"
      ]
     },
     "execution_count": 53,
     "metadata": {},
     "output_type": "execute_result"
    }
   ],
   "source": [
    "import urllib.request\n",
    "import os.path\n",
    "import zipfile\n",
    "\n",
    "data_url = \"https://www.ssa.gov/oact/babynames/state/namesbystate.zip\"\n",
    "local_filename = \"babynamesbystate.zip\"\n",
    "if not os.path.exists(local_filename): # if the data exists don't download again\n",
    "    with urllib.request.urlopen(data_url) as resp, open(local_filename, 'wb') as f:\n",
    "        f.write(resp.read())\n",
    "\n",
    "zf = zipfile.ZipFile(local_filename, 'r')\n",
    "\n",
    "ca_name = 'NY.TXT'\n",
    "field_names = ['State', 'Sex', 'Year', 'Name', 'Count']\n",
    "with zf.open(ca_name) as fh:\n",
    "    babynames = pd.read_csv(fh, header=None, names=field_names)\n",
    "\n",
    "babynames.sample(5)"
   ]
  },
  {
   "cell_type": "markdown",
   "metadata": {},
   "source": [
    "## Question 2a"
   ]
  },
  {
   "cell_type": "markdown",
   "metadata": {},
   "source": [
    "Write a line of code that creates a list (or Series or array) of all names that end with “ert”.\n",
    "\n",
    "Your list should have only one instance of each name! "
   ]
  },
  {
   "cell_type": "code",
   "execution_count": 54,
   "metadata": {},
   "outputs": [
    {
     "data": {
      "text/plain": [
       "array(['Robert', 'Albert', 'Herbert', 'Gilbert', 'Bert', 'Hubert',\n",
       "       'Elbert', 'Wilbert', 'Norbert', 'Delbert', 'Adelbert', 'Rupert',\n",
       "       'Egbert', 'Humbert', 'Ethelbert', 'Lambert', 'Calvert',\n",
       "       'Engelbert', 'Mert'], dtype=object)"
      ]
     },
     "execution_count": 54,
     "metadata": {},
     "output_type": "execute_result"
    }
   ],
   "source": [
    "#YOUR CODE HERE\n",
    "\n",
    "babynames[babynames['Name'].str.endswith('ert')][\"Name\"].unique()"
   ]
  },
  {
   "cell_type": "markdown",
   "metadata": {},
   "source": [
    "## Question 2b"
   ]
  },
  {
   "cell_type": "markdown",
   "metadata": {},
   "source": [
    "Find the number of babies born in each year of each sex."
   ]
  },
  {
   "cell_type": "markdown",
   "metadata": {},
   "source": [
    "First, build a table showing the total number of babies born of each sex in each year. One way is to groupby using both columns of interest."
   ]
  },
  {
   "cell_type": "code",
   "execution_count": 55,
   "metadata": {},
   "outputs": [
    {
     "data": {
      "text/html": [
       "<div>\n",
       "<style scoped>\n",
       "    .dataframe tbody tr th:only-of-type {\n",
       "        vertical-align: middle;\n",
       "    }\n",
       "\n",
       "    .dataframe tbody tr th {\n",
       "        vertical-align: top;\n",
       "    }\n",
       "\n",
       "    .dataframe thead th {\n",
       "        text-align: right;\n",
       "    }\n",
       "</style>\n",
       "<table border=\"1\" class=\"dataframe\">\n",
       "  <thead>\n",
       "    <tr style=\"text-align: right;\">\n",
       "      <th></th>\n",
       "      <th></th>\n",
       "      <th>Count</th>\n",
       "    </tr>\n",
       "    <tr>\n",
       "      <th>Year</th>\n",
       "      <th>Sex</th>\n",
       "      <th></th>\n",
       "    </tr>\n",
       "  </thead>\n",
       "  <tbody>\n",
       "    <tr>\n",
       "      <th rowspan=\"2\" valign=\"top\">1910</th>\n",
       "      <th>F</th>\n",
       "      <td>32428</td>\n",
       "    </tr>\n",
       "    <tr>\n",
       "      <th>M</th>\n",
       "      <td>15720</td>\n",
       "    </tr>\n",
       "    <tr>\n",
       "      <th rowspan=\"2\" valign=\"top\">1911</th>\n",
       "      <th>F</th>\n",
       "      <td>37180</td>\n",
       "    </tr>\n",
       "    <tr>\n",
       "      <th>M</th>\n",
       "      <td>23621</td>\n",
       "    </tr>\n",
       "    <tr>\n",
       "      <th>1912</th>\n",
       "      <th>F</th>\n",
       "      <td>49386</td>\n",
       "    </tr>\n",
       "    <tr>\n",
       "      <th>...</th>\n",
       "      <th>...</th>\n",
       "      <td>...</td>\n",
       "    </tr>\n",
       "    <tr>\n",
       "      <th>2017</th>\n",
       "      <th>M</th>\n",
       "      <td>97382</td>\n",
       "    </tr>\n",
       "    <tr>\n",
       "      <th rowspan=\"2\" valign=\"top\">2018</th>\n",
       "      <th>F</th>\n",
       "      <td>86482</td>\n",
       "    </tr>\n",
       "    <tr>\n",
       "      <th>M</th>\n",
       "      <td>95489</td>\n",
       "    </tr>\n",
       "    <tr>\n",
       "      <th rowspan=\"2\" valign=\"top\">2019</th>\n",
       "      <th>F</th>\n",
       "      <td>84372</td>\n",
       "    </tr>\n",
       "    <tr>\n",
       "      <th>M</th>\n",
       "      <td>92912</td>\n",
       "    </tr>\n",
       "  </tbody>\n",
       "</table>\n",
       "<p>220 rows × 1 columns</p>\n",
       "</div>"
      ],
      "text/plain": [
       "          Count\n",
       "Year Sex       \n",
       "1910 F    32428\n",
       "     M    15720\n",
       "1911 F    37180\n",
       "     M    23621\n",
       "1912 F    49386\n",
       "...         ...\n",
       "2017 M    97382\n",
       "2018 F    86482\n",
       "     M    95489\n",
       "2019 F    84372\n",
       "     M    92912\n",
       "\n",
       "[220 rows x 1 columns]"
      ]
     },
     "execution_count": 55,
     "metadata": {},
     "output_type": "execute_result"
    }
   ],
   "source": [
    "#YOUR CODE HERE\n",
    "\n",
    "babynames.groupby(['Year', 'Sex']).agg(sum)"
   ]
  },
  {
   "cell_type": "markdown",
   "metadata": {},
   "source": [
    "## Question 2c"
   ]
  },
  {
   "cell_type": "markdown",
   "metadata": {},
   "source": [
    "Second, a more natural approach is to use a pivot table. Create a pivot table."
   ]
  },
  {
   "cell_type": "code",
   "execution_count": 56,
   "metadata": {},
   "outputs": [
    {
     "data": {
      "text/html": [
       "<div>\n",
       "<style scoped>\n",
       "    .dataframe tbody tr th:only-of-type {\n",
       "        vertical-align: middle;\n",
       "    }\n",
       "\n",
       "    .dataframe tbody tr th {\n",
       "        vertical-align: top;\n",
       "    }\n",
       "\n",
       "    .dataframe thead th {\n",
       "        text-align: right;\n",
       "    }\n",
       "</style>\n",
       "<table border=\"1\" class=\"dataframe\">\n",
       "  <thead>\n",
       "    <tr style=\"text-align: right;\">\n",
       "      <th>Sex</th>\n",
       "      <th>F</th>\n",
       "      <th>M</th>\n",
       "    </tr>\n",
       "    <tr>\n",
       "      <th>Year</th>\n",
       "      <th></th>\n",
       "      <th></th>\n",
       "    </tr>\n",
       "  </thead>\n",
       "  <tbody>\n",
       "    <tr>\n",
       "      <th>1910</th>\n",
       "      <td>1923</td>\n",
       "      <td>1125</td>\n",
       "    </tr>\n",
       "    <tr>\n",
       "      <th>1911</th>\n",
       "      <td>2322</td>\n",
       "      <td>1624</td>\n",
       "    </tr>\n",
       "    <tr>\n",
       "      <th>1912</th>\n",
       "      <td>2909</td>\n",
       "      <td>2708</td>\n",
       "    </tr>\n",
       "    <tr>\n",
       "      <th>1913</th>\n",
       "      <td>3267</td>\n",
       "      <td>3149</td>\n",
       "    </tr>\n",
       "    <tr>\n",
       "      <th>1914</th>\n",
       "      <td>4245</td>\n",
       "      <td>4289</td>\n",
       "    </tr>\n",
       "    <tr>\n",
       "      <th>...</th>\n",
       "      <td>...</td>\n",
       "      <td>...</td>\n",
       "    </tr>\n",
       "    <tr>\n",
       "      <th>2015</th>\n",
       "      <td>1298</td>\n",
       "      <td>1396</td>\n",
       "    </tr>\n",
       "    <tr>\n",
       "      <th>2016</th>\n",
       "      <td>1220</td>\n",
       "      <td>1416</td>\n",
       "    </tr>\n",
       "    <tr>\n",
       "      <th>2017</th>\n",
       "      <td>1230</td>\n",
       "      <td>1427</td>\n",
       "    </tr>\n",
       "    <tr>\n",
       "      <th>2018</th>\n",
       "      <td>1098</td>\n",
       "      <td>1514</td>\n",
       "    </tr>\n",
       "    <tr>\n",
       "      <th>2019</th>\n",
       "      <td>1060</td>\n",
       "      <td>1489</td>\n",
       "    </tr>\n",
       "  </tbody>\n",
       "</table>\n",
       "<p>110 rows × 2 columns</p>\n",
       "</div>"
      ],
      "text/plain": [
       "Sex      F     M\n",
       "Year            \n",
       "1910  1923  1125\n",
       "1911  2322  1624\n",
       "1912  2909  2708\n",
       "1913  3267  3149\n",
       "1914  4245  4289\n",
       "...    ...   ...\n",
       "2015  1298  1396\n",
       "2016  1220  1416\n",
       "2017  1230  1427\n",
       "2018  1098  1514\n",
       "2019  1060  1489\n",
       "\n",
       "[110 rows x 2 columns]"
      ]
     },
     "execution_count": 56,
     "metadata": {},
     "output_type": "execute_result"
    }
   ],
   "source": [
    "#YOUR CODE HERE\n",
    "\n",
    "babynames_pivot = babynames.pivot_table(index='Year', columns='Sex', values='Count', aggfunc=np.max)\n",
    "babynames_pivot"
   ]
  },
  {
   "cell_type": "markdown",
   "metadata": {},
   "source": [
    "# Enrollment Practice Questions (40 points)"
   ]
  },
  {
   "cell_type": "code",
   "execution_count": 57,
   "metadata": {},
   "outputs": [
    {
     "data": {
      "text/html": [
       "<div>\n",
       "<style scoped>\n",
       "    .dataframe tbody tr th:only-of-type {\n",
       "        vertical-align: middle;\n",
       "    }\n",
       "\n",
       "    .dataframe tbody tr th {\n",
       "        vertical-align: top;\n",
       "    }\n",
       "\n",
       "    .dataframe thead th {\n",
       "        text-align: right;\n",
       "    }\n",
       "</style>\n",
       "<table border=\"1\" class=\"dataframe\">\n",
       "  <thead>\n",
       "    <tr style=\"text-align: right;\">\n",
       "      <th></th>\n",
       "      <th>Term</th>\n",
       "      <th>Subject</th>\n",
       "      <th>Number</th>\n",
       "      <th>Title</th>\n",
       "      <th>Instructor</th>\n",
       "      <th>Enrollment Cnt</th>\n",
       "    </tr>\n",
       "  </thead>\n",
       "  <tbody>\n",
       "    <tr>\n",
       "      <th>0</th>\n",
       "      <td>2018 Spring</td>\n",
       "      <td>Computer Science</td>\n",
       "      <td>9A</td>\n",
       "      <td>Programmers' Matlab</td>\n",
       "      <td>Carol Marshall; Paul Hilfinger</td>\n",
       "      <td>8</td>\n",
       "    </tr>\n",
       "    <tr>\n",
       "      <th>1</th>\n",
       "      <td>2018 Spring</td>\n",
       "      <td>Computer Science</td>\n",
       "      <td>9C</td>\n",
       "      <td>Programmers' C</td>\n",
       "      <td>Carol Marshall; Paul Hilfinger</td>\n",
       "      <td>11</td>\n",
       "    </tr>\n",
       "    <tr>\n",
       "      <th>2</th>\n",
       "      <td>2018 Spring</td>\n",
       "      <td>Computer Science</td>\n",
       "      <td>9E</td>\n",
       "      <td>Productive Unix Use</td>\n",
       "      <td>Carol Marshall; Paul Hilfinger</td>\n",
       "      <td>36</td>\n",
       "    </tr>\n",
       "    <tr>\n",
       "      <th>3</th>\n",
       "      <td>2018 Spring</td>\n",
       "      <td>Computer Science</td>\n",
       "      <td>9F</td>\n",
       "      <td>Programmers' C++</td>\n",
       "      <td>Carol Marshall; Paul Hilfinger</td>\n",
       "      <td>33</td>\n",
       "    </tr>\n",
       "    <tr>\n",
       "      <th>4</th>\n",
       "      <td>2018 Spring</td>\n",
       "      <td>Computer Science</td>\n",
       "      <td>9G</td>\n",
       "      <td>Programmers' Java</td>\n",
       "      <td>Carol Marshall; Paul Hilfinger</td>\n",
       "      <td>11</td>\n",
       "    </tr>\n",
       "  </tbody>\n",
       "</table>\n",
       "</div>"
      ],
      "text/plain": [
       "          Term           Subject Number                Title  \\\n",
       "0  2018 Spring  Computer Science     9A  Programmers' Matlab   \n",
       "1  2018 Spring  Computer Science     9C       Programmers' C   \n",
       "2  2018 Spring  Computer Science     9E  Productive Unix Use   \n",
       "3  2018 Spring  Computer Science     9F     Programmers' C++   \n",
       "4  2018 Spring  Computer Science     9G    Programmers' Java   \n",
       "\n",
       "                       Instructor  Enrollment Cnt  \n",
       "0  Carol Marshall; Paul Hilfinger               8  \n",
       "1  Carol Marshall; Paul Hilfinger              11  \n",
       "2  Carol Marshall; Paul Hilfinger              36  \n",
       "3  Carol Marshall; Paul Hilfinger              33  \n",
       "4  Carol Marshall; Paul Hilfinger              11  "
      ]
     },
     "execution_count": 57,
     "metadata": {},
     "output_type": "execute_result"
    }
   ],
   "source": [
    "df = pd.read_csv(\"enrollments.csv\", usecols=[\"Term\", \"Subject\", \"Number\", \"Title\", \"Enrollment Cnt\", \"Instructor\"])\n",
    "df.head()"
   ]
  },
  {
   "cell_type": "markdown",
   "metadata": {},
   "source": [
    "## Question 3a"
   ]
  },
  {
   "cell_type": "markdown",
   "metadata": {},
   "source": [
    "Try to find all Spring offerings of this course. Note, this dataset only contains Spring offerings, so there's no need to filter based on semester. The official \"Number\" for this class is \"C100\"."
   ]
  },
  {
   "cell_type": "code",
   "execution_count": 58,
   "metadata": {},
   "outputs": [
    {
     "data": {
      "text/html": [
       "<div>\n",
       "<style scoped>\n",
       "    .dataframe tbody tr th:only-of-type {\n",
       "        vertical-align: middle;\n",
       "    }\n",
       "\n",
       "    .dataframe tbody tr th {\n",
       "        vertical-align: top;\n",
       "    }\n",
       "\n",
       "    .dataframe thead th {\n",
       "        text-align: right;\n",
       "    }\n",
       "</style>\n",
       "<table border=\"1\" class=\"dataframe\">\n",
       "  <thead>\n",
       "    <tr style=\"text-align: right;\">\n",
       "      <th></th>\n",
       "      <th>Term</th>\n",
       "      <th>Subject</th>\n",
       "      <th>Number</th>\n",
       "      <th>Title</th>\n",
       "      <th>Instructor</th>\n",
       "      <th>Enrollment Cnt</th>\n",
       "    </tr>\n",
       "  </thead>\n",
       "  <tbody>\n",
       "    <tr>\n",
       "      <th>20</th>\n",
       "      <td>2018 Spring</td>\n",
       "      <td>Computer Science</td>\n",
       "      <td>C100</td>\n",
       "      <td>Princ&amp;Tech Data Sci</td>\n",
       "      <td>Fernando Perez; Joseph Gonzalez</td>\n",
       "      <td>610</td>\n",
       "    </tr>\n",
       "    <tr>\n",
       "      <th>387</th>\n",
       "      <td>2017 Spring</td>\n",
       "      <td>Computer Science</td>\n",
       "      <td>C100</td>\n",
       "      <td>Princ&amp;Tech Data Sci</td>\n",
       "      <td>Bin Yu; Deborah Nolan; Joseph Gonzalez; Joseph...</td>\n",
       "      <td>67</td>\n",
       "    </tr>\n",
       "    <tr>\n",
       "      <th>670</th>\n",
       "      <td>2017 Spring</td>\n",
       "      <td>Statistics</td>\n",
       "      <td>C100</td>\n",
       "      <td>Princ&amp;Tech Data Sci</td>\n",
       "      <td>Bin Yu; Deborah Nolan; Joseph Gonzalez; Joseph...</td>\n",
       "      <td>28</td>\n",
       "    </tr>\n",
       "  </tbody>\n",
       "</table>\n",
       "</div>"
      ],
      "text/plain": [
       "            Term           Subject Number                Title  \\\n",
       "20   2018 Spring  Computer Science   C100  Princ&Tech Data Sci   \n",
       "387  2017 Spring  Computer Science   C100  Princ&Tech Data Sci   \n",
       "670  2017 Spring        Statistics   C100  Princ&Tech Data Sci   \n",
       "\n",
       "                                            Instructor  Enrollment Cnt  \n",
       "20                     Fernando Perez; Joseph Gonzalez             610  \n",
       "387  Bin Yu; Deborah Nolan; Joseph Gonzalez; Joseph...              67  \n",
       "670  Bin Yu; Deborah Nolan; Joseph Gonzalez; Joseph...              28  "
      ]
     },
     "execution_count": 58,
     "metadata": {},
     "output_type": "execute_result"
    }
   ],
   "source": [
    "#YOUR CODE HERE\n",
    "\n",
    "df[df['Number'] == 'C100']"
   ]
  },
  {
   "cell_type": "markdown",
   "metadata": {},
   "source": [
    "## Question 3b"
   ]
  },
  {
   "cell_type": "markdown",
   "metadata": {},
   "source": [
    "Create a series where each row correspond to one subject (e.g. English), and each value corresponds to the average number of students for courses in that subject. For example, your series might have a row saying that the average number of students in a Computer Science class is 88."
   ]
  },
  {
   "cell_type": "code",
   "execution_count": 59,
   "metadata": {},
   "outputs": [
    {
     "data": {
      "text/plain": [
       "Subject\n",
       "Computer Science                 88.073620\n",
       "Electrical Eng & Computer Sci    21.333333\n",
       "Electrical Engineering           36.339426\n",
       "English                          24.386286\n",
       "Philosophy                       41.516949\n",
       "Statistics                       60.301724\n",
       "Name: Enrollment Cnt, dtype: float64"
      ]
     },
     "execution_count": 59,
     "metadata": {},
     "output_type": "execute_result"
    }
   ],
   "source": [
    "#YOUR CODE HERE\n",
    "\n",
    "avg_enrollment = df['Enrollment Cnt'].groupby(df['Subject']).mean()\n",
    "avg_enrollment"
   ]
  },
  {
   "cell_type": "markdown",
   "metadata": {},
   "source": [
    "## Question 3c"
   ]
  },
  {
   "cell_type": "markdown",
   "metadata": {},
   "source": [
    "Create a multi-indexed series where each row corresponds to one subject (e.g. English) offered during one semester (e.g. Spring 2017), and each value corresponds to the maximum number of students for courses in that subject during that semester. For example, you might have a row saying that the maximum number of students in a computer science course during Spring 2012 was 575."
   ]
  },
  {
   "cell_type": "code",
   "execution_count": 60,
   "metadata": {},
   "outputs": [
    {
     "data": {
      "text/plain": [
       "Subject                        Term       \n",
       "Computer Science               2012 Spring     575\n",
       "                               2013 Spring     529\n",
       "                               2014 Spring     944\n",
       "                               2015 Spring     981\n",
       "                               2016 Spring    1156\n",
       "                               2017 Spring    1328\n",
       "                               2018 Spring    1379\n",
       "Electrical Eng & Computer Sci  2016 Spring      18\n",
       "                               2017 Spring      30\n",
       "                               2018 Spring     237\n",
       "Electrical Engineering         2012 Spring     204\n",
       "                               2013 Spring     238\n",
       "                               2014 Spring     384\n",
       "                               2015 Spring     383\n",
       "                               2016 Spring     698\n",
       "                               2017 Spring     775\n",
       "                               2018 Spring     825\n",
       "English                        2012 Spring     156\n",
       "                               2013 Spring     160\n",
       "                               2014 Spring     109\n",
       "                               2015 Spring     120\n",
       "                               2016 Spring     103\n",
       "                               2017 Spring     141\n",
       "                               2018 Spring     106\n",
       "Philosophy                     2012 Spring     160\n",
       "                               2013 Spring     187\n",
       "                               2014 Spring     172\n",
       "                               2015 Spring     197\n",
       "                               2016 Spring     200\n",
       "                               2017 Spring     242\n",
       "                               2018 Spring     236\n",
       "Statistics                     2012 Spring     316\n",
       "                               2013 Spring     285\n",
       "                               2014 Spring     299\n",
       "                               2015 Spring     444\n",
       "                               2016 Spring     450\n",
       "                               2017 Spring     393\n",
       "                               2018 Spring    1043\n",
       "Name: Enrollment Cnt, dtype: int64"
      ]
     },
     "execution_count": 60,
     "metadata": {},
     "output_type": "execute_result"
    }
   ],
   "source": [
    "#YOUR CODE HERE\n",
    "\n",
    "max_enrollment_term = df['Enrollment Cnt'].groupby([df['Subject'], df['Term']]).max()\n",
    "max_enrollment_term"
   ]
  },
  {
   "cell_type": "markdown",
   "metadata": {},
   "source": [
    "## Question 3d"
   ]
  },
  {
   "cell_type": "markdown",
   "metadata": {},
   "source": [
    "Try to compute the size of the largest class ever taught by each instructor. This challenge is stated more vaguely on purpose. You'll have to decide what the data structure looks like. Your result should be sorted in decreasing order of class size."
   ]
  },
  {
   "cell_type": "code",
   "execution_count": 61,
   "metadata": {},
   "outputs": [
    {
     "data": {
      "text/plain": [
       "Instructor\n",
       "Joshua Hug                      1379\n",
       "Joshua Hug; Joshua Hug          1328\n",
       "John DeNero                     1210\n",
       "Anindita Adhikari; Scott Lee    1043\n",
       "John Denero                      981\n",
       "                                ... \n",
       "Carol Marshall; John DeNero        1\n",
       "Rajarshi Mukherjee                 1\n",
       "Robert Full                        1\n",
       "Katherine Yelick                   1\n",
       "Lotfi Zadeh                        1\n",
       "Name: Enrollment Cnt, Length: 745, dtype: int64"
      ]
     },
     "execution_count": 61,
     "metadata": {},
     "output_type": "execute_result"
    }
   ],
   "source": [
    "#YOUR CODE HERE\n",
    "max_enrollment_inst = df['Enrollment Cnt'].groupby(df['Instructor']).max().sort_values(ascending=False)\n",
    "max_enrollment_inst"
   ]
  }
 ],
 "metadata": {
  "kernelspec": {
   "display_name": "Python 3",
   "language": "python",
   "name": "python3"
  },
  "language_info": {
   "codemirror_mode": {
    "name": "ipython",
    "version": 3
   },
   "file_extension": ".py",
   "mimetype": "text/x-python",
   "name": "python",
   "nbconvert_exporter": "python",
   "pygments_lexer": "ipython3",
   "version": "3.8.18"
  }
 },
 "nbformat": 4,
 "nbformat_minor": 4
}
