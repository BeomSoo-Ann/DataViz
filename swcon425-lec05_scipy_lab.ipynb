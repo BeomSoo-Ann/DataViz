{
 "cells": [
  {
   "cell_type": "markdown",
   "metadata": {},
   "source": [
    "# SciPy Tutorial"
   ]
  },
  {
   "cell_type": "markdown",
   "metadata": {},
   "source": [
    "- Before starting to learn SciPy, you need to know basic functionality as well as different types of an array of NumPy\n",
    "\n",
    "- The standard way of import SciPy modules and Numpy:"
   ]
  },
  {
   "cell_type": "code",
   "execution_count": null,
   "metadata": {},
   "outputs": [],
   "source": [
    "from scipy import special   # same for other modules\n",
    "import numpy as np"
   ]
  },
  {
   "cell_type": "markdown",
   "metadata": {},
   "source": [
    "## Basic Functions"
   ]
  },
  {
   "cell_type": "code",
   "execution_count": null,
   "metadata": {},
   "outputs": [],
   "source": [
    "from scipy import cluster"
   ]
  },
  {
   "cell_type": "code",
   "execution_count": null,
   "metadata": {},
   "outputs": [],
   "source": [
    "# help function\n",
    "help(cluster) # sub-package cluster"
   ]
  },
  {
   "cell_type": "code",
   "execution_count": null,
   "metadata": {},
   "outputs": [],
   "source": [
    "# without sub-package \n",
    "help()"
   ]
  },
  {
   "cell_type": "code",
   "execution_count": null,
   "metadata": {},
   "outputs": [],
   "source": [
    "import scipy\n",
    "scipy.info(cluster)"
   ]
  },
  {
   "cell_type": "code",
   "execution_count": null,
   "metadata": {},
   "outputs": [],
   "source": [
    "scipy.source(cluster)"
   ]
  },
  {
   "cell_type": "markdown",
   "metadata": {},
   "source": [
    "## File Input / Output package"
   ]
  },
  {
   "cell_type": "markdown",
   "metadata": {},
   "source": [
    "- Scipy, I/O package, has a wide range of functions for work with different files format which are Matlab, Arff, Wave, Matrix Market, IDL, NetCDF, TXT, CSV and binary format.\n",
    "\n",
    "- Let's we take one file format example as which are regularly use of Matlab:"
   ]
  },
  {
   "cell_type": "code",
   "execution_count": null,
   "metadata": {},
   "outputs": [],
   "source": [
    "import numpy as np\n",
    "from scipy import io as sio # Import the essential library scipy with i/o package and Numpy\n",
    "array = np.ones((4, 4)) # Create 4 x 4, 1 dimensional array\n",
    "sio.savemat('example.mat', {'ar': array}) # Store array in example.mat file\n",
    "data = sio.loadmat('example.mat', struct_as_record=True) # Get data from example.mat file\n",
    "data['ar'] # Print output"
   ]
  },
  {
   "cell_type": "markdown",
   "metadata": {},
   "source": [
    "## Special Functions"
   ]
  },
  {
   "cell_type": "markdown",
   "metadata": {},
   "source": [
    "- scipy.special package contains numerous functions of mathematical physics.\n",
    "\n",
    "- SciPy special function includes Cubic Root, Exponential, Log sum Exponential, Lambert, Permutation and Combinations, Gamma, Bessel, hypergeometric, Kelvin, beta, parabolic cylinder, Relative Error Exponential, etc..\n",
    "\n",
    "- For one line description all of these functions, type in Python console:"
   ]
  },
  {
   "cell_type": "code",
   "execution_count": null,
   "metadata": {},
   "outputs": [],
   "source": [
    "help(special)"
   ]
  },
  {
   "cell_type": "markdown",
   "metadata": {},
   "source": [
    "### Cubic Root Functions"
   ]
  },
  {
   "cell_type": "code",
   "execution_count": null,
   "metadata": {},
   "outputs": [],
   "source": [
    "from scipy.special import cbrt\n",
    "#Find cubic root of [27, 64] using cbrt() function \n",
    "cb = #####\n",
    "print(cb) #print value of cb"
   ]
  },
  {
   "cell_type": "markdown",
   "metadata": {},
   "source": [
    "### Exponential Functions"
   ]
  },
  {
   "cell_type": "code",
   "execution_count": null,
   "metadata": {},
   "outputs": [],
   "source": [
    "from scipy import special\n",
    "#Find the cube of 10 using special.exp10() function\n",
    "a = #####\n",
    "print(a)"
   ]
  },
  {
   "cell_type": "code",
   "execution_count": null,
   "metadata": {},
   "outputs": [],
   "source": [
    "#Find the cube of 2 using special.exp10() function\n",
    "b = #####\n",
    "print(b)"
   ]
  },
  {
   "cell_type": "markdown",
   "metadata": {},
   "source": [
    "### Trigonometric Functions"
   ]
  },
  {
   "cell_type": "code",
   "execution_count": null,
   "metadata": {},
   "outputs": [],
   "source": [
    "# Find the Sine of the angle 90 given in degrees using special.sindg() function\n",
    "\n",
    "c = #####\n",
    "print(c)"
   ]
  },
  {
   "cell_type": "code",
   "execution_count": null,
   "metadata": {},
   "outputs": [],
   "source": [
    "# Find the Cosine of the angle 90 given in degrees using special.cosdg() function\n",
    "\n",
    "\n",
    "d = #####\n",
    "print(d)"
   ]
  },
  {
   "cell_type": "markdown",
   "metadata": {},
   "source": [
    "## Integration Functions"
   ]
  },
  {
   "cell_type": "markdown",
   "metadata": {},
   "source": [
    "### General Integration"
   ]
  },
  {
   "cell_type": "code",
   "execution_count": null,
   "metadata": {},
   "outputs": [],
   "source": [
    "from scipy import integrate\n",
    "help(integrate.quad)  # use help function to retrieve info about quad function present in integrate module \n",
    "\n",
    "# func, a, b denote integration function, lower and uppper limits, respectively"
   ]
  },
  {
   "cell_type": "code",
   "execution_count": null,
   "metadata": {},
   "outputs": [],
   "source": [
    "# Write down the code to integrate y=10**x function from 0 to 1 using scipy.integrate.quad() and special.exp10() function\n",
    "\n",
    "i = #####\n",
    "print(i)"
   ]
  },
  {
   "cell_type": "markdown",
   "metadata": {},
   "source": [
    "### Double Integration"
   ]
  },
  {
   "cell_type": "code",
   "execution_count": null,
   "metadata": {},
   "outputs": [],
   "source": [
    "help(integrate.dblquad)"
   ]
  },
  {
   "cell_type": "code",
   "execution_count": null,
   "metadata": {},
   "outputs": [],
   "source": [
    "# As an example, let's use lambda function (x,y) with any expression of our choice here, x*y**2\n",
    "e = lambda x,y: x*y**2 \n",
    "f = lambda x: 1\n",
    "g = lambda x: -1\n",
    "integrate.dblquad(e,0,2,f,g)"
   ]
  },
  {
   "cell_type": "markdown",
   "metadata": {},
   "source": [
    "## Fourier Transformation"
   ]
  },
  {
   "cell_type": "code",
   "execution_count": null,
   "metadata": {},
   "outputs": [],
   "source": [
    "from scipy.fftpack import fft, ifft\n",
    "import numpy as np\n",
    "x = np.array([1,2,3,4])\n",
    "y = fft(x)\n",
    "#y = ifft(x)\n",
    "print(y)"
   ]
  },
  {
   "cell_type": "markdown",
   "metadata": {},
   "source": [
    "## Discrete Fourier Transform"
   ]
  },
  {
   "cell_type": "markdown",
   "metadata": {},
   "source": [
    "- DFT is a mathematical technique which is used in converting spatial data into frequency data.\n",
    "\n",
    "- FFT (Fast Fourier Transformation) is an algorithm for computing DFT\n",
    "\n",
    "- FFT is applied to a multidimensional array.\n",
    "\n",
    "- Frequency defines the number of signal or wavelength in particular time period.\n",
    "\n",
    "- Example: Take a wave and show using Matplotlib library. We take simple periodic function example of sin(20 × 2πt)"
   ]
  },
  {
   "cell_type": "code",
   "execution_count": null,
   "metadata": {},
   "outputs": [],
   "source": [
    "%matplotlib inline\n",
    "from matplotlib import pyplot as plt\n",
    "import numpy as np \n",
    "\n",
    "# Frequency in terms of Hertz\n",
    "fre  = 5 \n",
    "# Sample rate\n",
    "fre_samp = 50\n",
    "t = np.linspace(0, 2, 2 * fre_samp, endpoint = False )\n",
    "a = np.sin(fre  * 2 * np.pi * t)\n",
    "figure, axis = plt.subplots()\n",
    "axis.plot(t, a)\n",
    "axis.set_xlabel ('Time (s)')\n",
    "axis.set_ylabel ('Signal amplitude')\n",
    "plt.show()"
   ]
  },
  {
   "cell_type": "markdown",
   "metadata": {},
   "source": [
    "We can see that frequency is 5 Hz and its signal repeats in 1/5 seconds – it's call as a particular time period."
   ]
  },
  {
   "cell_type": "markdown",
   "metadata": {},
   "source": [
    "Let us use this sinusoid wave with the help of DFT application"
   ]
  },
  {
   "cell_type": "code",
   "execution_count": null,
   "metadata": {},
   "outputs": [],
   "source": [
    "from scipy import fftpack\n",
    "A = fftpack.fft(a)\n",
    "frequency = fftpack.fftfreq(len(a)) * fre_samp \n",
    "figure, axis = plt.subplots()\n",
    "axis.stem(frequency, np.abs(A)) \n",
    "axis.set_xlabel('Frequency in Hz') \n",
    "axis.set_ylabel('Frequency Spectrum Magnitude') \n",
    "axis.set_xlim(-fre_samp / 2, fre_samp/ 2) \n",
    "axis.set_ylim(-5, 110)\n",
    "plt.show()"
   ]
  },
  {
   "cell_type": "markdown",
   "metadata": {},
   "source": [
    "You can clearly see that output is a one-dimensional array. \n",
    "\n",
    "Input containing complex values are zero except two points. \n",
    "\n",
    "In DFT example we visualize the magnitude of the signal."
   ]
  },
  {
   "cell_type": "markdown",
   "metadata": {},
   "source": [
    "## Linear Algebra"
   ]
  },
  {
   "cell_type": "markdown",
   "metadata": {},
   "source": [
    "- Linear Algebra of SciPy is an implementation of BLAS and ATLAS LAPACK libraries. \n",
    "\n",
    "- Performance of Linear Algebra is very fast compared to BLAS and LAPACK.\n",
    "\n",
    "- Linear algebra routine accepts two-dimensional array object and output is also a two- dimensional array."
   ]
  },
  {
   "cell_type": "code",
   "execution_count": null,
   "metadata": {},
   "outputs": [],
   "source": [
    "# Calculating determinant of a two-dimensional matrix\n",
    "from scipy import linalg\n",
    "import numpy as np\n",
    "#define square matrix\n",
    "two_d_array = np.array([ [4,5], [3,2] ]) # pass values to det() function \n",
    "determinant = #####\n",
    "print(determinant)"
   ]
  },
  {
   "cell_type": "code",
   "execution_count": null,
   "metadata": {},
   "outputs": [],
   "source": [
    "# inverse matrix\n",
    "from scipy import linalg\n",
    "a = np.array([[1,2],[3,4]])\n",
    "inverse_mat = ##### \n",
    "print(inverse_mat)"
   ]
  },
  {
   "cell_type": "markdown",
   "metadata": {},
   "source": [
    "- The most common problem in linear algebra is eigenvalues and eigenvector which can be easily solved using eig() function.\n",
    "\n",
    "- Now lets we find the Eigenvalue of (X) and correspond eigenvector of a two-dimensional square matrix."
   ]
  },
  {
   "cell_type": "code",
   "execution_count": null,
   "metadata": {},
   "outputs": [],
   "source": [
    "# Eigenvalues and Eigenvector \n",
    "from scipy import linalg\n",
    "import numpy as np\n",
    "#define two dimensional array\n",
    "arr = np.array([[5,4],[6,3]]) #pass value into function\n",
    "eg_val, eg_vect = #####  #get eigenvalues\n",
    "print(eg_val) #get eigenvectors print(eg_vect)"
   ]
  },
  {
   "cell_type": "markdown",
   "metadata": {},
   "source": [
    "## Interpolation Functions"
   ]
  },
  {
   "cell_type": "code",
   "execution_count": null,
   "metadata": {},
   "outputs": [],
   "source": [
    "import matplotlib.pyplot as plt \n",
    "from scipy import interpolate\n",
    "x = np.arange(5,20)\n",
    "y = np.exp(x/3.0)\n",
    "f = #####\n",
    "x1 = np.arange(6,12)\n",
    "y1 = #####  # use interpolation function retruned by inter1d\n",
    "plt.plot(x, y, 'o', x1, y1, '--')\n",
    "plt.show()"
   ]
  },
  {
   "cell_type": "markdown",
   "metadata": {},
   "source": [
    "## Image Processing with SciPy – scipy.ndimage"
   ]
  },
  {
   "cell_type": "markdown",
   "metadata": {},
   "source": [
    "- scipy.ndimage is a submodule of SciPy which is mostly used for performing an image related operation\n",
    "\n",
    "- ndimage means the \"n\" dimensional image.\n",
    "\n",
    "- SciPy Image Processing provides Geometrics transformation (rotate, crop, flip), image filtering (sharp and de nosing), display image, image segmentation, classification and features extraction.\n",
    "\n",
    "- MISC Package in SciPy contains prebuilt images which can be used to perform image manipulation task\n",
    "\n",
    "- Example: Let's take a geometric transformation example of images"
   ]
  },
  {
   "cell_type": "code",
   "execution_count": null,
   "metadata": {},
   "outputs": [],
   "source": [
    "from scipy import misc\n",
    "from matplotlib import pyplot as plt \n",
    "import numpy as np\n",
    "#get face image of panda from misc package \n",
    "panda = misc.face()\n",
    "#plot or show image of face\n",
    "plt.imshow( panda )\n",
    "plt.show()"
   ]
  },
  {
   "cell_type": "markdown",
   "metadata": {},
   "source": [
    "Now we Flip-down current image:"
   ]
  },
  {
   "cell_type": "code",
   "execution_count": null,
   "metadata": {},
   "outputs": [],
   "source": [
    "#Flip Down using scipy misc.face image \n",
    "flip_down = #####\n",
    "#flip_down = np.fliplr(misc.face())\n",
    "plt.imshow(flip_down)\n",
    "plt.show()"
   ]
  },
  {
   "cell_type": "markdown",
   "metadata": {},
   "source": [
    "Example: Rotation of Image using Scipy,"
   ]
  },
  {
   "cell_type": "code",
   "execution_count": null,
   "metadata": {},
   "outputs": [],
   "source": [
    "from scipy import ndimage, misc\n",
    "from matplotlib import pyplot as plt\n",
    "panda = misc.face()\n",
    "#rotatation function of scipy for image – image rotated 135 degree \n",
    "panda_rotate = #####\n",
    "plt.imshow(panda_rotate)\n",
    "plt.show()"
   ]
  },
  {
   "cell_type": "code",
   "execution_count": null,
   "metadata": {},
   "outputs": [],
   "source": []
  }
 ],
 "metadata": {
  "kernelspec": {
   "display_name": "Python 3 (ipykernel)",
   "language": "python",
   "name": "python3"
  },
  "language_info": {
   "codemirror_mode": {
    "name": "ipython",
    "version": 3
   },
   "file_extension": ".py",
   "mimetype": "text/x-python",
   "name": "python",
   "nbconvert_exporter": "python",
   "pygments_lexer": "ipython3",
   "version": "3.10.9"
  }
 },
 "nbformat": 4,
 "nbformat_minor": 4
}
