{
 "cells": [
  {
   "cell_type": "markdown",
   "metadata": {
    "slideshow": {
     "slide_type": "slide"
    }
   },
   "source": [
    "# SWCON425 Data Science and Visualization\n",
    "# Practical Statistics for Data Scientists\n",
    "## Data and Sampling Distributions"
   ]
  },
  {
   "cell_type": "markdown",
   "metadata": {
    "slideshow": {
     "slide_type": "slide"
    }
   },
   "source": [
    "Import required Python packages."
   ]
  },
  {
   "cell_type": "code",
   "execution_count": 1,
   "metadata": {},
   "outputs": [
    {
     "name": "stderr",
     "output_type": "stream",
     "text": [
      "/Users/annbeomsu/opt/anaconda3/lib/python3.8/site-packages/scipy/__init__.py:138: UserWarning: A NumPy version >=1.16.5 and <1.23.0 is required for this version of SciPy (detected version 1.24.4)\n",
      "  warnings.warn(f\"A NumPy version >={np_minversion} and <{np_maxversion} is required for this version of \"\n"
     ]
    }
   ],
   "source": [
    "%matplotlib inline\n",
    "\n",
    "from pathlib import Path\n",
    "import pandas as pd\n",
    "import numpy as np\n",
    "from scipy import stats\n",
    "from sklearn.utils import resample\n",
    "\n",
    "import seaborn as sns\n",
    "import matplotlib.pylab as plt\n",
    "\n",
    "DATA = Path('.').resolve().parents[1] / 'data'"
   ]
  },
  {
   "cell_type": "markdown",
   "metadata": {
    "slideshow": {
     "slide_type": "slide"
    }
   },
   "source": [
    "Define paths to data sets. If you don't keep your data in the same directory as the code, adapt the path names."
   ]
  },
  {
   "cell_type": "code",
   "execution_count": 2,
   "metadata": {},
   "outputs": [],
   "source": [
    "LOANS_INCOME_CSV = DATA / 'loans_income.csv'\n",
    "SP500_DATA_CSV = DATA / 'sp500_data.csv.gz'"
   ]
  },
  {
   "cell_type": "markdown",
   "metadata": {
    "slideshow": {
     "slide_type": "slide"
    }
   },
   "source": [
    "# Population versus Sample"
   ]
  },
  {
   "cell_type": "markdown",
   "metadata": {
    "slideshow": {
     "slide_type": "-"
    }
   },
   "source": [
    "<img src=\"population_vs_sample.png\">"
   ]
  },
  {
   "cell_type": "markdown",
   "metadata": {
    "slideshow": {
     "slide_type": "-"
    }
   },
   "source": [
    "A *sample* is a subset of data from a larger data set; statisticians call this larger data set the *population*. "
   ]
  },
  {
   "cell_type": "markdown",
   "metadata": {
    "slideshow": {
     "slide_type": "subslide"
    }
   },
   "source": [
    "*Random sampling* is a process in which each available member of the population being sampled has an equal chance of being chosen for the sample at each draw. "
   ]
  },
  {
   "cell_type": "markdown",
   "metadata": {
    "slideshow": {
     "slide_type": "fragment"
    }
   },
   "source": [
    "The sample that results is called a *simple random sample*. Sampling can be done with *replacement*, in which observations are put back in the population after each draw for possible future reselection. "
   ]
  },
  {
   "cell_type": "markdown",
   "metadata": {
    "slideshow": {
     "slide_type": "fragment"
    }
   },
   "source": [
    "Or it can be done *without replacement*, in which case observations, once selected, are unavailable for future draws.\n",
    "\n"
   ]
  },
  {
   "cell_type": "markdown",
   "metadata": {
    "slideshow": {
     "slide_type": "subslide"
    }
   },
   "source": [
    "Data quality often matters more than data quantity when making an estimate or a model based on a sample. "
   ]
  },
  {
   "cell_type": "markdown",
   "metadata": {
    "slideshow": {
     "slide_type": "fragment"
    }
   },
   "source": [
    "Data quality in data science involves completeness, consistency of format, cleanliness, and accuracy of individual data points. "
   ]
  },
  {
   "cell_type": "markdown",
   "metadata": {
    "slideshow": {
     "slide_type": "fragment"
    }
   },
   "source": [
    "Statistics adds the notion of *representativeness*."
   ]
  },
  {
   "cell_type": "code",
   "execution_count": 9,
   "metadata": {
    "slideshow": {
     "slide_type": "slide"
    }
   },
   "outputs": [
    {
     "data": {
      "image/png": "[encoded data removed]",
      "text/plain": [
       "<Figure size 500x150 with 2 Axes>"
      ]
     },
     "metadata": {},
     "output_type": "display_data"
    }
   ],
   "source": [
    "np.random.seed(seed=1)\n",
    "x = np.linspace(-3, 3, 300)\n",
    "xsample = stats.norm.rvs(size=1000)\n",
    "# A normal continuous random variable\n",
    "fig, axes = plt.subplots(ncols=2, figsize=(5, 1.5))\n",
    "\n",
    "ax = axes[0]\n",
    "##### # probability density function (pdf)\n",
    "ax.fill(x, stats.norm.pdf(x))\n",
    "ax.set_axis_off()\n",
    "ax.set_xlim(-3, 3)\n",
    "\n",
    "ax = axes[1]\n",
    "ax.hist(xsample, density=True, bins=30)\n",
    "ax.set_axis_off()\n",
    "ax.set_xlim(-3, 3)\n",
    "ax.set_position\n",
    "#plt.subplots_adjust(left=0, bottom=0, right=1, top=1, wspace=0, hspace=0)\n",
    "   \n",
    "plt.show()"
   ]
  },
  {
   "cell_type": "markdown",
   "metadata": {
    "slideshow": {
     "slide_type": "subslide"
    }
   },
   "source": [
    "This figure shows a schematic that underpins the concepts — data and sampling distributions. \n",
    "\n",
    "The lefthand side represents a population that, in statistics, is assumed to follow an underlying but *unknown* distribution.\n",
    "\n",
    "All that is available is the *sample* data and its empirical distribution, shown on the righthand side. \n",
    "\n",
    "To get from the lefthand side to the righthand side, a sampling procedure is used. \n",
    "\n",
    "Traditional statistics focused very much on the lefthand side, using theory based on strong assumptions about the population. \n",
    "\n",
    "Modern statistics has moved to the righthand side, where such assumptions are not needed."
   ]
  },
  {
   "cell_type": "markdown",
   "metadata": {
    "slideshow": {
     "slide_type": "slide"
    }
   },
   "source": [
    "# Sampling Distribution of a Statistic"
   ]
  },
  {
   "cell_type": "markdown",
   "metadata": {
    "slideshow": {
     "slide_type": "-"
    }
   },
   "source": [
    "The term *sampling distribution* of a statistic refers to the distribution of some sample statistic over many samples drawn from the same population. "
   ]
  },
  {
   "cell_type": "markdown",
   "metadata": {
    "slideshow": {
     "slide_type": "fragment"
    }
   },
   "source": [
    "Much of classical statistics is concerned with making inferences from (small) samples to (very large) populations."
   ]
  },
  {
   "cell_type": "markdown",
   "metadata": {
    "slideshow": {
     "slide_type": "fragment"
    }
   },
   "source": [
    "Typically, a sample is drawn with the goal of measuring something (with a *sample statistic*) or modeling something (with a statistical or machine learning model). "
   ]
  },
  {
   "cell_type": "markdown",
   "metadata": {
    "slideshow": {
     "slide_type": "subslide"
    }
   },
   "source": [
    "Since our estimate or model is based on a sample, it might be in error; it might be different if we were to draw a different sample. We are therefore interested in how different it might be—a key concern is *sampling variability*."
   ]
  },
  {
   "cell_type": "markdown",
   "metadata": {
    "slideshow": {
     "slide_type": "fragment"
    }
   },
   "source": [
    "If we had lots of data, we could draw additional samples and observe the distribution of a sample statistic directly."
   ]
  },
  {
   "cell_type": "markdown",
   "metadata": {
    "slideshow": {
     "slide_type": "fragment"
    }
   },
   "source": [
    "The distribution of a sample statistic such as the mean is likely to be more regular and bell-shaped than the distribution of the data itself. "
   ]
  },
  {
   "cell_type": "markdown",
   "metadata": {
    "slideshow": {
     "slide_type": "fragment"
    }
   },
   "source": [
    "The larger the sample the statistic is based on, the more this is true. Also, the larger the sample, the narrower the distribution of the sample statistic."
   ]
  },
  {
   "cell_type": "code",
   "execution_count": 10,
   "metadata": {
    "slideshow": {
     "slide_type": "slide"
    }
   },
   "outputs": [
    {
     "name": "stderr",
     "output_type": "stream",
     "text": [
      "/var/folders/19/l4jmmtl54430h_n57ccs701w0000gn/T/ipykernel_48929/2201576856.py:3: FutureWarning: The squeeze argument has been deprecated and will be removed in a future version. Append .squeeze(\"columns\") to the call to squeeze.\n",
      "\n",
      "\n",
      "  loans_income = pd.read_csv(LOANS_INCOME_CSV, squeeze=True)\n"
     ]
    },
    {
     "data": {
      "text/html": [
       "<div>\n",
       "<style scoped>\n",
       "    .dataframe tbody tr th:only-of-type {\n",
       "        vertical-align: middle;\n",
       "    }\n",
       "\n",
       "    .dataframe tbody tr th {\n",
       "        vertical-align: top;\n",
       "    }\n",
       "\n",
       "    .dataframe thead th {\n",
       "        text-align: right;\n",
       "    }\n",
       "</style>\n",
       "<table border=\"1\" class=\"dataframe\">\n",
       "  <thead>\n",
       "    <tr style=\"text-align: right;\">\n",
       "      <th></th>\n",
       "      <th>income</th>\n",
       "      <th>type</th>\n",
       "    </tr>\n",
       "  </thead>\n",
       "  <tbody>\n",
       "    <tr>\n",
       "      <th>40292</th>\n",
       "      <td>63000.0</td>\n",
       "      <td>Data</td>\n",
       "    </tr>\n",
       "    <tr>\n",
       "      <th>38959</th>\n",
       "      <td>92000.0</td>\n",
       "      <td>Data</td>\n",
       "    </tr>\n",
       "    <tr>\n",
       "      <th>17361</th>\n",
       "      <td>134000.0</td>\n",
       "      <td>Data</td>\n",
       "    </tr>\n",
       "    <tr>\n",
       "      <th>33996</th>\n",
       "      <td>52000.0</td>\n",
       "      <td>Data</td>\n",
       "    </tr>\n",
       "    <tr>\n",
       "      <th>26491</th>\n",
       "      <td>43000.0</td>\n",
       "      <td>Data</td>\n",
       "    </tr>\n",
       "    <tr>\n",
       "      <th>32173</th>\n",
       "      <td>41000.0</td>\n",
       "      <td>Data</td>\n",
       "    </tr>\n",
       "    <tr>\n",
       "      <th>22152</th>\n",
       "      <td>50000.0</td>\n",
       "      <td>Data</td>\n",
       "    </tr>\n",
       "    <tr>\n",
       "      <th>1218</th>\n",
       "      <td>62000.0</td>\n",
       "      <td>Data</td>\n",
       "    </tr>\n",
       "    <tr>\n",
       "      <th>116</th>\n",
       "      <td>93000.0</td>\n",
       "      <td>Data</td>\n",
       "    </tr>\n",
       "    <tr>\n",
       "      <th>11904</th>\n",
       "      <td>60000.0</td>\n",
       "      <td>Data</td>\n",
       "    </tr>\n",
       "  </tbody>\n",
       "</table>\n",
       "</div>"
      ],
      "text/plain": [
       "         income  type\n",
       "40292   63000.0  Data\n",
       "38959   92000.0  Data\n",
       "17361  134000.0  Data\n",
       "33996   52000.0  Data\n",
       "26491   43000.0  Data\n",
       "32173   41000.0  Data\n",
       "22152   50000.0  Data\n",
       "1218    62000.0  Data\n",
       "116     93000.0  Data\n",
       "11904   60000.0  Data"
      ]
     },
     "execution_count": 10,
     "metadata": {},
     "output_type": "execute_result"
    }
   ],
   "source": [
    "# This is illustrated in an example using annual income for loan applicants\n",
    "\n",
    "loans_income = pd.read_csv(LOANS_INCOME_CSV, squeeze=True)\n",
    "\n",
    "# take a simple random sample\n",
    "sample_data = pd.DataFrame({\n",
    "    'income': loans_income.sample(1000),\n",
    "    'type': 'Data',\n",
    "})\n",
    "\n",
    "# take a sample of means of 5 values\n",
    "sample_mean_05 = pd.DataFrame({\n",
    "    'income': [loans_income.sample(5).mean() for _ in range(1000)],\n",
    "    'type': 'Mean of 5',\n",
    "})\n",
    "\n",
    "# take a sample of means of 20 values\n",
    "sample_mean_20 = pd.DataFrame({\n",
    "    'income': [loans_income.sample(20).mean() for _ in range(1000)],\n",
    "    'type': 'Mean of 20',\n",
    "})\n",
    "\n",
    "results = pd.concat([sample_data, sample_mean_05, sample_mean_20])\n",
    "#print(results.head())\n",
    "results.head(10)"
   ]
  },
  {
   "cell_type": "code",
   "execution_count": 11,
   "metadata": {
    "slideshow": {
     "slide_type": "slide"
    }
   },
   "outputs": [
    {
     "data": {
      "image/png": "[encoded data removed]",
      "text/plain": [
       "<Figure size 1200x200 with 3 Axes>"
      ]
     },
     "metadata": {},
     "output_type": "display_data"
    }
   ],
   "source": [
    "# Plot a histogram of each sample \n",
    "g = sns.FacetGrid(results, col='type', height=2, aspect=2)\n",
    "g.map(plt.hist, 'income', range=[0, 200000], bins=20)\n",
    "g.set_axis_labels('Income', 'Count')\n",
    "g.set_titles('{col_name}')\n",
    "\n",
    "plt.tight_layout()\n",
    "plt.show()"
   ]
  },
  {
   "cell_type": "markdown",
   "metadata": {},
   "source": [
    "This figure shows the histogram of annual incomes of \n",
    "* 1,000 loan applicants (left) \n",
    "* 1,000 means of n=5 applicants (middle) \n",
    "* 1,000 means of n=20 applicants (right)"
   ]
  },
  {
   "cell_type": "markdown",
   "metadata": {
    "slideshow": {
     "slide_type": "slide"
    }
   },
   "source": [
    "# The Bootstrap"
   ]
  },
  {
   "cell_type": "markdown",
   "metadata": {},
   "source": [
    "One easy and effective way to estimate the sampling distribution of a statistic, or of model parameters, is to draw additional samples, with replacement, from the sample itself and recalculate the statistic or model for each resample. \n",
    "\n",
    "\n",
    "This procedure is called the *bootstrap*, and it does not necessarily involve any assumptions about the data or the sample statistic being normally distributed."
   ]
  },
  {
   "cell_type": "markdown",
   "metadata": {
    "slideshow": {
     "slide_type": "subslide"
    }
   },
   "source": [
    "### Key terms for the bootstrap \n",
    "* **Bootstrap sample** - A sample taken with replacement from an observed data set\n",
    "* **Resampling** - The process of taking repeated samples from observed data; includes both bootstrap and permulation (shuffling) procedures"
   ]
  },
  {
   "cell_type": "markdown",
   "metadata": {
    "slideshow": {
     "slide_type": "subslide"
    }
   },
   "source": [
    "Conceptually, you can imagine the bootstrap as replicating the original sample thousands or millions of times so that you have a hypothetical population that embodies all the knowledge from your original sample (it’s just larger). \n",
    "\n",
    "You can then draw samples from this hypothetical population for the purpose of estimating a sampling distribution."
   ]
  },
  {
   "cell_type": "markdown",
   "metadata": {
    "slideshow": {
     "slide_type": "-"
    }
   },
   "source": [
    "<img src=\"basic_bootstrap.png\">"
   ]
  },
  {
   "cell_type": "markdown",
   "metadata": {
    "slideshow": {
     "slide_type": "subslide"
    }
   },
   "source": [
    "In practice, it is not necessary to actually replicate the sample a huge number of times. \n",
    "\n",
    "We simply replace each observation after each draw; that is, we *sample* with *replacement*. \n",
    "\n",
    "In this way we effectively create an infinite population in which the probability of an element being drawn remains unchanged from draw to draw. "
   ]
  },
  {
   "cell_type": "markdown",
   "metadata": {
    "slideshow": {
     "slide_type": "subslide"
    }
   },
   "source": [
    "The algorithm for a bootstrap resampling of the mean, for a sample of size n, is as follows:"
   ]
  },
  {
   "cell_type": "markdown",
   "metadata": {
    "slideshow": {
     "slide_type": "fragment"
    }
   },
   "source": [
    "1. Draw a sample value, record it, and then replace it.\n",
    "2. Repeat n times.\n",
    "3. Record the mean of the n resampled values.\n",
    "4. Repeat steps 1–3 R times.\n",
    "5. Use the R results to:<br />\n",
    "&nbsp;&nbsp;&nbsp;&nbsp;&nbsp;a. Calculate their standard deviation (this estimates sample mean standard error).<br />\n",
    "&nbsp;&nbsp;&nbsp;&nbsp;&nbsp;b. Produce a histogram or boxplot.<br /> \n",
    "&nbsp;&nbsp;&nbsp;&nbsp;&nbsp;c. Find a confidence interval.<br />"
   ]
  },
  {
   "cell_type": "markdown",
   "metadata": {
    "slideshow": {
     "slide_type": "subslide"
    }
   },
   "source": [
    "R, the number of iterations of the bootstrap, is set somewhat arbitrarily. \n",
    "\n",
    "The more iterations you do, the more accurate the estimate of the standard error, or the confidence interval. \n",
    "\n",
    "The result from this procedure is a bootstrap set of sample statistics or estimated model parameters, which you can then examine to see how variable they are."
   ]
  },
  {
   "cell_type": "code",
   "execution_count": 12,
   "metadata": {
    "slideshow": {
     "slide_type": "slide"
    }
   },
   "outputs": [
    {
     "name": "stdout",
     "output_type": "stream",
     "text": [
      "Bootstrap Statistics:\n",
      "original: 62000.0\n",
      "bias: -82.09799999999814\n",
      "std. error: 228.73933106830748\n"
     ]
    }
   ],
   "source": [
    "results = []\n",
    "for nrepeat in range(1000):\n",
    "    # using scikit-learn resample method\n",
    "    sample = resample(loans_income)\n",
    "    results.append(sample.median())\n",
    "results = pd.Series(results)\n",
    "print('Bootstrap Statistics:')\n",
    "print(f'original: {loans_income.median()}')\n",
    "print(f'bias: {results.mean() - loans_income.median()}')\n",
    "print(f'std. error: {results.std()}')"
   ]
  },
  {
   "cell_type": "markdown",
   "metadata": {
    "slideshow": {
     "slide_type": "fragment"
    }
   },
   "source": [
    "The original estimate of the median is 62,000. \n",
    "The bootstrap distribution indicates that the estimate has a bias of about 70 and a standard error of 209. \n",
    "The results will vary slightly between consecutive runs of the algorithm."
   ]
  },
  {
   "cell_type": "markdown",
   "metadata": {
    "slideshow": {
     "slide_type": "slide"
    }
   },
   "source": [
    "# Confidence Intervals"
   ]
  },
  {
   "cell_type": "markdown",
   "metadata": {},
   "source": [
    "Frequency tables, histograms, boxplots, and standard errors are all ways to understand the potential error in a sample estimate. Confidence intervals are another.\n",
    "\n",
    "There is a natural human aversion to uncertainty; people (especially experts) say “I don’t know” far too rarely. \n",
    "\n",
    "Analysts and managers, while acknowledging uncertainty, nonetheless place undue faith in an estimate when it is presented as a single number (a point estimate). \n",
    "\n",
    "Presenting an estimate not as a single number but as a range is one way to counteract this tendency. "
   ]
  },
  {
   "cell_type": "markdown",
   "metadata": {
    "slideshow": {
     "slide_type": "subslide"
    }
   },
   "source": [
    "Confidence intervals do this in a manner grounded in statistical sampling principles.\n",
    "\n",
    "Confidence intervals always come with a coverage level, expressed as a (high) percentage, say 90% or 95%. \n",
    "\n",
    "One way to think of a 90% confidence interval is as follows: it is the interval that encloses the central 90% of the bootstrap sampling distribution of a sample statistic.\n",
    "\n",
    "More generally, an x% confidence interval around a sample estimate should, on average, contain similar sample estimates x% of the time (when a similar sampling procedure is followed)."
   ]
  },
  {
   "cell_type": "markdown",
   "metadata": {
    "slideshow": {
     "slide_type": "subslide"
    }
   },
   "source": [
    "Given a sample of size n, and a sample statistic of interest, the algorithm for a bootstrap confidence interval is as follows:\n",
    "1. Draw a random sample of size n with replacement from the data (a resample).\n",
    "2. Record the statistic of interest for the resample.\n",
    "3. Repeat steps 1–2 many (R) times.\n",
    "4. For an x% confidence interval, trim [(100-x) / 2]% of the R resample results from either end of the distribution.\n",
    "5. The trim points are the endpoints of an x% bootstrap confidence interval.\n"
   ]
  },
  {
   "cell_type": "markdown",
   "metadata": {
    "slideshow": {
     "slide_type": "subslide"
    }
   },
   "source": [
    "### Key Terms for Confidence Intervals\n",
    "\n",
    "* **Confidence level**<br/>\n",
    "The percentage of confidence intervals, constructed in the same way from the same population, that are expected to contain the statistic of interest.\n",
    "\n",
    "* **Interval endpoints**<br/>\n",
    "The top and bottom of the confidence interval."
   ]
  },
  {
   "cell_type": "code",
   "execution_count": 14,
   "metadata": {
    "slideshow": {
     "slide_type": "slide"
    }
   },
   "outputs": [
    {
     "name": "stdout",
     "output_type": "stream",
     "text": [
      "68760.51844\n",
      "55734.1\n"
     ]
    },
    {
     "data": {
      "image/png": "[encoded data removed]",
      "text/plain": [
       "<Figure size 400x300 with 1 Axes>"
      ]
     },
     "metadata": {},
     "output_type": "display_data"
    }
   ],
   "source": [
    "print(loans_income.mean())\n",
    "np.random.seed(seed=3)  \n",
    "# create a sample of 20 loan income data\n",
    "\n",
    "sample20 = resample(loans_income, n_samples=20, replace=False)\n",
    "print(sample20.mean())\n",
    "results = []\n",
    "\n",
    "for nrepeat in range(500):\n",
    "        sample = resample(sample20)\n",
    "        results.append(sample.mean())\n",
    "results = pd.Series(results)\n",
    "\n",
    "confidence_interval = list(results.quantile([0.05, 0.95]))\n",
    "ax = results.plot.hist(bins=30, figsize=(4, 3))\n",
    "ax.plot(confidence_interval, [55, 55], color='black')\n",
    "for x in confidence_interval:\n",
    "    ax.plot([x, x], [0, 65], color='black')\n",
    "    ax.text(x, 70, f'{x:.0f}', \n",
    "            horizontalalignment='center', verticalalignment='center')\n",
    "ax.text(sum(confidence_interval) / 2, 60, '90% interval',\n",
    "        horizontalalignment='center', verticalalignment='center')\n",
    "\n",
    "meanIncome = results.mean()\n",
    "ax.plot([meanIncome, meanIncome], [0, 50], color='black', linestyle='--')\n",
    "ax.text(meanIncome, 10, f'Mean: {meanIncome:.0f}',\n",
    "        bbox=dict(facecolor='white', edgecolor='white', alpha=0.5),\n",
    "        horizontalalignment='center', verticalalignment='center')\n",
    "ax.set_ylim(0, 80)\n",
    "ax.set_ylabel('Counts')\n",
    "\n",
    "plt.tight_layout()\n",
    "plt.show()"
   ]
  },
  {
   "cell_type": "markdown",
   "metadata": {
    "slideshow": {
     "slide_type": "-"
    }
   },
   "source": [
    "This figure shows a 90% confidence interval for the mean annual income of loan\n",
    "applicants, based on a sample of 20 for which the mean was $62,231."
   ]
  },
  {
   "cell_type": "code",
   "execution_count": 15,
   "metadata": {
    "slideshow": {
     "slide_type": "slide"
    }
   },
   "outputs": [
    {
     "data": {
      "image/png": "[encoded data removed]",
      "text/plain": [
       "<Figure size 400x300 with 1 Axes>"
      ]
     },
     "metadata": {},
     "output_type": "display_data"
    }
   ],
   "source": [
    "np.random.seed(seed=3)\n",
    "# create a sample of 20 loan income data\n",
    "sample20 = resample(loans_income, n_samples=20, replace=False)\n",
    "\n",
    "results = []\n",
    "for nrepeat in range(500):\n",
    "    sample = resample(sample20)\n",
    "    results.append(sample.mean())\n",
    "results = pd.Series(results)\n",
    "\n",
    "confidence_interval = list(results.quantile([0.05, 0.95]))\n",
    "ax = results.plot.hist(bins=30, figsize=(4, 3), color='C1')\n",
    "ax.plot(confidence_interval, [55, 55], color='black', linestyle='--')\n",
    "for x in confidence_interval:\n",
    "    ax.plot([x, x], [0, 60], color='black')\n",
    "ax.text(82000, 50, \n",
    "        f'90% CI\\n[{confidence_interval[0]:.0f}, {confidence_interval[1]:.0f}]',\n",
    "       fontsize='small')\n",
    "\n",
    "confidence_interval = list(results.quantile([0.025, 0.975]))\n",
    "ax = results.plot.hist(bins=30, figsize=(4, 3))\n",
    "ax.plot(confidence_interval, [65, 65], color='black', linestyle='--')\n",
    "for x in confidence_interval:\n",
    "    ax.plot([x, x], [0, 70], color='black')\n",
    "ax.text(82000, 65, \n",
    "        f'95% CI\\n[{confidence_interval[0]:.0f}, {confidence_interval[1]:.0f}]',\n",
    "       fontsize='small')\n",
    "# ax.text(sum(confidence_interval) / 2, 264, '95 % interval',\n",
    "#         horizontalalignment='center', verticalalignment='center')\n",
    "\n",
    "meanIncome = results.mean()\n",
    "ax.plot([meanIncome, meanIncome], [0, 50], color='black', linestyle='--')\n",
    "ax.text(meanIncome, 5, f'Mean: {meanIncome:.0f}',\n",
    "        bbox=dict(facecolor='white', edgecolor='white', alpha=0.5),\n",
    "        horizontalalignment='center', verticalalignment='center')\n",
    "ax.set_ylim(0, 80)\n",
    "ax.set_xlim(37000, 102000)\n",
    "ax.set_xticks([40000, 50000, 60000, 70000, 80000])\n",
    "ax.set_ylabel('Counts')\n",
    "\n",
    "plt.tight_layout()\n",
    "plt.show()"
   ]
  },
  {
   "cell_type": "markdown",
   "metadata": {
    "slideshow": {
     "slide_type": "slide"
    }
   },
   "source": [
    "### Key Ideas\n",
    "\n",
    "* Confidence intervals are the typical way to present estimates as an interval range.\n",
    "* The more data you have, the less variable a sample estimate will be.\n",
    "* The lower the level of confidence you can tolerate, the narrower the confidence interval will be.\n",
    "* The bootstrap is an effective way to construct confidence intervals.\n"
   ]
  },
  {
   "cell_type": "markdown",
   "metadata": {
    "slideshow": {
     "slide_type": "slide"
    }
   },
   "source": [
    "# Normal Distribution"
   ]
  },
  {
   "cell_type": "markdown",
   "metadata": {},
   "source": [
    "The bell-shaped normal distribution is iconic in traditional statistics. \n",
    "\n",
    "The fact that distributions of sample statistics are often normally shaped has made it a powerful tool in the development of mathematical formulas that approximate those distributions.\n"
   ]
  },
  {
   "cell_type": "markdown",
   "metadata": {
    "slideshow": {
     "slide_type": "subslide"
    }
   },
   "source": [
    "In a normal distribution, 68% of the data lies within one standard deviation of the mean, and 95% lies within two standard deviations."
   ]
  },
  {
   "cell_type": "markdown",
   "metadata": {
    "slideshow": {
     "slide_type": "-"
    }
   },
   "source": [
    "<img src=\"normal_dist.png\">"
   ]
  },
  {
   "cell_type": "markdown",
   "metadata": {
    "slideshow": {
     "slide_type": "slide"
    }
   },
   "source": [
    "### Key terms for the normal distribution \n",
    "\n",
    "* **Error**<br/>\n",
    "The difference between a data point and a predicted or average value.\n",
    "\n",
    "* **Standardize**<br/>\n",
    "Subtract the mean and divide by the standard deviation.\n",
    "\n",
    "* **z-score**<br/>\n",
    "The result of standardizing an individual data point.\n",
    "\n",
    "* **Standard normal**<br/>\n",
    "A normal distribution with mean = 0 and standard deviation = 1.\n",
    "\n",
    "* **QQ-Plot**<br/>\n",
    "A plot to visualize how close a sample distribution is to a specified distribution, e.g., the normal distribution.\n"
   ]
  },
  {
   "cell_type": "markdown",
   "metadata": {
    "slideshow": {
     "slide_type": "slide"
    }
   },
   "source": [
    "## Standard Normal and QQ-Plots"
   ]
  },
  {
   "cell_type": "markdown",
   "metadata": {},
   "source": [
    "A *standard normal distribution* is one in which the units on the x-axis are expressed in terms of standard deviations away from the mean. \n",
    "\n",
    "To compare data to a standard normal distribution, you subtract the mean and then divide by the standard deviation; this is also called *normalization* or *standardization*. \n",
    "\n",
    "Note that “standardization” in this sense is unrelated to database record standardization (conversion to a common format). \n",
    "\n",
    "The transformed value is termed a *z-score*, and the normal distribution is sometimes called the *z-distribution*."
   ]
  },
  {
   "cell_type": "markdown",
   "metadata": {
    "slideshow": {
     "slide_type": "subslide"
    }
   },
   "source": [
    "A *QQ-Plot* is used to visually determine how close a sample is to a specified distribution—in this case, the normal distribution. \n",
    "\n",
    "The QQ-Plot orders the z-scores from low to high and plots each value’s z-score on the y-axis; the x-axis is the corresponding quantile of a normal distribution for that value’s rank. \n",
    "\n",
    "Since the data is normalized, the units correspond to the number of standard deviations away from the mean. \n",
    "\n",
    "If the points roughly fall on the diagonal line, then the sample distribution can be considered close to normal."
   ]
  },
  {
   "cell_type": "markdown",
   "metadata": {
    "slideshow": {
     "slide_type": "subslide"
    }
   },
   "source": [
    "Converting data to z-scores (i.e., standardizing or normalizing the data) does not make the data normally distributed. \n",
    "\n",
    "It just puts the data on the same scale as the standard normal distribution, often for comparison purposes."
   ]
  },
  {
   "cell_type": "markdown",
   "metadata": {
    "slideshow": {
     "slide_type": "subslide"
    }
   },
   "source": [
    "The package _scipy_ has the function (`scipy.stats.probplot`) to create QQ-plots. The argument `dist` specifies the distribution, which is set by default to the normal distribution."
   ]
  },
  {
   "cell_type": "code",
   "execution_count": 16,
   "metadata": {
    "slideshow": {
     "slide_type": "fragment"
    }
   },
   "outputs": [
    {
     "data": {
      "image/png": "[encoded data removed]",
      "text/plain": [
       "<Figure size 400x400 with 1 Axes>"
      ]
     },
     "metadata": {},
     "output_type": "display_data"
    }
   ],
   "source": [
    "fig, ax = plt.subplots(figsize=(4, 4))\n",
    "\n",
    "norm_sample = stats.norm.rvs(size=100)\n",
    "stats.probplot(norm_sample, plot=ax)\n",
    "\n",
    "plt.tight_layout()\n",
    "plt.show()"
   ]
  },
  {
   "cell_type": "markdown",
   "metadata": {
    "slideshow": {
     "slide_type": "-"
    }
   },
   "source": [
    "This figure shows a QQ-Plot for a sample of 100 values randomly generated from a normal distribution; as expected, the points closely follow the line. "
   ]
  },
  {
   "cell_type": "markdown",
   "metadata": {
    "slideshow": {
     "slide_type": "slide"
    }
   },
   "source": [
    "### Key Ideas\n",
    "\n",
    "* The normal distribution was essential to the historical development of statistics, as it permitted mathematical approximation of uncertainty and variability.\n",
    "* While raw data is typically not normally distributed, errors often are, as are averages and totals in large samples.\n",
    "* To convert data to z-scores, you subtract the mean of the data and divide by the standard deviation; you can then compare the data to a normal distribution.\n",
    "\n"
   ]
  },
  {
   "cell_type": "markdown",
   "metadata": {
    "slideshow": {
     "slide_type": "slide"
    }
   },
   "source": [
    "# Long-Tailed Distributions"
   ]
  },
  {
   "cell_type": "markdown",
   "metadata": {},
   "source": [
    "Despite the importance of the normal distribution historically in statistics, and in contrast to what the name would suggest, data is generally not normally distributed.\n",
    "\n",
    "While the normal distribution is often appropriate and useful with respect to the distribution of errors and sample statistics, it typically does not characterize the distribution of raw data. \n",
    "\n",
    "Sometimes, the distribution is highly skewed (asymmetric), such as with income data; or the distribution can be discrete, as with binomial data. \n",
    "\n",
    "Both symmetric and asymmetric distributions may have long tails. \n",
    "\n",
    "The tails of a distribution correspond to the extreme values (small and large). Long tails, and guarding against them, are widely recognized in practical work."
   ]
  },
  {
   "cell_type": "markdown",
   "metadata": {
    "slideshow": {
     "slide_type": "slide"
    }
   },
   "source": [
    "### Key Terms for Long-Tailed Distributions\n",
    "* **Tail** - The long narrow portion of a frequency distribution, where relatively extreme values occur at low frequency.\n",
    "\n",
    "* **Skew** - Where one tail of a distribution is longer than the other.\n"
   ]
  },
  {
   "cell_type": "code",
   "execution_count": 17,
   "metadata": {
    "slideshow": {
     "slide_type": "slide"
    }
   },
   "outputs": [
    {
     "data": {
      "image/png": "[encoded data removed]",
      "text/plain": [
       "<Figure size 400x400 with 1 Axes>"
      ]
     },
     "metadata": {},
     "output_type": "display_data"
    }
   ],
   "source": [
    "sp500_px = pd.read_csv(SP500_DATA_CSV)\n",
    "\n",
    "nflx = sp500_px.NFLX\n",
    "nflx = np.diff(np.log(nflx[nflx>0]))\n",
    "\n",
    "fig, ax = plt.subplots(figsize=(4, 4))\n",
    "stats.probplot(nflx, plot=ax)\n",
    "\n",
    "plt.tight_layout()\n",
    "plt.show()"
   ]
  },
  {
   "cell_type": "markdown",
   "metadata": {
    "slideshow": {
     "slide_type": "subslide"
    }
   },
   "source": [
    "In contrast to QQ-plot for normal distribution, the points are far below the line for low values and far above the line for high values, indicating the data are not normally distributed. \n",
    "\n",
    "This means that we are much more likely to observe extreme values than would be expected if the data had a normal distribution. \n",
    "\n",
    "This figure shows another common phenomenon: the points are close to the line for the data within one standard deviation of the mean. \n",
    "\n",
    "Tukey refers to this phenomenon as data being “normal in the middle” but having much longer tails."
   ]
  },
  {
   "cell_type": "code",
   "execution_count": 18,
   "metadata": {
    "slideshow": {
     "slide_type": "slide"
    }
   },
   "outputs": [
    {
     "data": {
      "image/png": "[encoded data removed]",
      "text/plain": [
       "<Figure size 640x480 with 1 Axes>"
      ]
     },
     "metadata": {},
     "output_type": "display_data"
    }
   ],
   "source": [
    "#plt.hist(sp500_px.NFLX)\n",
    "\n",
    "nflx = sp500_px.NFLX\n",
    "#nflx = np.log(nflx[nflx>0])\n",
    "#nflx = np.diff(np.log(nflx[nflx>0]))\n",
    "\n",
    "plt.hist(nflx)\n",
    "plt.show()"
   ]
  },
  {
   "cell_type": "markdown",
   "metadata": {
    "slideshow": {
     "slide_type": "slide"
    }
   },
   "source": [
    "### Key Ideas\n",
    "\n",
    "* Most data is not normally distributed.\n",
    "* Assuming a normal distribution can lead to underestimation of extreme events."
   ]
  },
  {
   "cell_type": "markdown",
   "metadata": {
    "slideshow": {
     "slide_type": "slide"
    }
   },
   "source": [
    "# Summary"
   ]
  },
  {
   "cell_type": "markdown",
   "metadata": {},
   "source": [
    "In the era of big data, the principles of random sampling remain important when accurate estimates are needed. \n",
    "\n",
    "Random selection of data can reduce bias and yield a higher quality data set than would result from just using the conveniently available data.\n",
    "\n",
    "Knowledge of various sampling and data-generating distributions allows us to quantify potential errors in an estimate that might be due to random variation. \n",
    "\n",
    "At the same time, the bootstrap (sampling with replacement from an observed data set) is an attractive “one size fits all” method to determine possible error in sample estimates."
   ]
  },
  {
   "cell_type": "code",
   "execution_count": null,
   "metadata": {},
   "outputs": [],
   "source": []
  }
 ],
 "metadata": {
  "celltoolbar": "Slideshow",
  "kernelspec": {
   "display_name": "Python 3 (ipykernel)",
   "language": "python",
   "name": "python3"
  },
  "language_info": {
   "codemirror_mode": {
    "name": "ipython",
    "version": 3
   },
   "file_extension": ".py",
   "mimetype": "text/x-python",
   "name": "python",
   "nbconvert_exporter": "python",
   "pygments_lexer": "ipython3",
   "version": "3.8.18"
  }
 },
 "nbformat": 4,
 "nbformat_minor": 4
}
